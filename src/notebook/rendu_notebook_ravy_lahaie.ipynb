{
 "cells": [
  {
   "cell_type": "markdown",
   "id": "5452e35d",
   "metadata": {},
   "source": [
    "Ravy LEON FOUN LIN - Thomas LAHAIE"
   ]
  },
  {
   "cell_type": "markdown",
   "id": "1fae8074",
   "metadata": {},
   "source": [
    "# Jupyter-Notebook des figures"
   ]
  },
  {
   "cell_type": "code",
   "execution_count": null,
   "id": "17c4dfe4",
   "metadata": {},
   "outputs": [],
   "source": [
    "import sqlite3\n",
    "import matplotlib.pyplot as plt\n",
    "import seaborn as sns\n",
    "import pandas as pd\n",
    "import toml \n",
    "import numpy\n",
    "import matplotlib\n",
    "import plotly.express as px"
   ]
  },
  {
   "cell_type": "markdown",
   "id": "0ce075ac",
   "metadata": {},
   "source": [
    "Definition du path "
   ]
  },
  {
   "cell_type": "code",
   "execution_count": null,
   "id": "2eb0bfb0",
   "metadata": {},
   "outputs": [],
   "source": [
    "path = \"../../db/metagenomics.sqlite\""
   ]
  },
  {
   "cell_type": "markdown",
   "id": "6564c8cb",
   "metadata": {},
   "source": [
    "## Widgets"
   ]
  },
  {
   "cell_type": "code",
   "execution_count": null,
   "id": "12d88e7c",
   "metadata": {},
   "outputs": [],
   "source": [
    "import ipywidgets as widgets\n",
    "from ipywidgets import Layout\n",
    "\n",
    "district = widgets.SelectMultiple(\n",
    "    options = ['porter','ekeley'],\n",
    "    value = ['porter', 'ekeley'],\n",
    "    description='Building',\n",
    "    disabled=False,\n",
    "    layout = Layout(width='50%', height='80px', display='flex')\n",
    ")"
   ]
  },
  {
   "cell_type": "code",
   "execution_count": null,
   "id": "a0825b92",
   "metadata": {},
   "outputs": [],
   "source": [
    "district_treemap = widgets.SelectMultiple(\n",
    "    options = ['porter','ekeley'],\n",
    "    value = ['porter', 'ekeley'],\n",
    "    description='Building',\n",
    "    disabled=False,\n",
    "    layout = Layout(width='50%', height='80px', display='flex')\n",
    ")"
   ]
  },
  {
   "cell_type": "code",
   "execution_count": null,
   "id": "d3babf8f",
   "metadata": {},
   "outputs": [],
   "source": [
    "district_treemap = widgets.SelectMultiple(\n",
    "    options = ['porter','ekeley'],\n",
    "    value = ['porter', 'ekeley'],\n",
    "    description='Building',\n",
    "    disabled=False,\n",
    "    layout = Layout(width='50%', height='80px', display='flex')\n",
    ")"
   ]
  },
  {
   "cell_type": "code",
   "execution_count": null,
   "id": "4ba7c273",
   "metadata": {},
   "outputs": [],
   "source": [
    "place_treemap = widgets.Dropdown(\n",
    "    options=[('door out', 'door out'), ('door in', 'door in'), ('faucet handles', 'faucet handles'),('stall out','stall out'),\n",
    "            ('soap dispenser','soap dispenser'),('sink floor','sink floor')],\n",
    "    value='door out',\n",
    "    description='Place:',\n",
    ")"
   ]
  },
  {
   "cell_type": "code",
   "execution_count": null,
   "id": "9bb8c19b",
   "metadata": {},
   "outputs": [],
   "source": [
    "plot_tr_sb = widgets.Dropdown(\n",
    "    options=[('sunburn', 'sunburn'), ('treemap', 'treemap')],\n",
    "    value='sunburn',\n",
    "    description='plot:',\n",
    ")"
   ]
  },
  {
   "cell_type": "code",
   "execution_count": null,
   "id": "2f996251",
   "metadata": {},
   "outputs": [],
   "source": [
    "color_pca = widgets.Dropdown(\n",
    "    options=[('gender', 'gender'), ('SAMPLE_ID', 'SAMPLE_ID'), ('building', 'buidling'),('surface','surface'),\n",
    "            ('floor','floor')],\n",
    "    value='gender',\n",
    "    description='color_pca:',\n",
    ")"
   ]
  },
  {
   "cell_type": "markdown",
   "id": "d9fe45d7",
   "metadata": {},
   "source": [
    "### Premier barplot"
   ]
  },
  {
   "cell_type": "code",
   "execution_count": null,
   "id": "e0b12bb3",
   "metadata": {},
   "outputs": [],
   "source": [
    "def premier_plot(path):\n",
    "         con = sqlite3.connect(path)\n",
    "         cur = con.cursor()\n",
    "         command = f\"\"\"\n",
    "         SELECT c.abs_count, s.building, s.surface\n",
    "         FROM Samples s NATURAL JOIN Counts c\n",
    "         \"\"\"\n",
    "         res = cur.execute(command)\n",
    "         result = res.fetchall()\n",
    "         con.commit()\n",
    "         con.close()\n",
    "\n",
    "\n",
    "         dict_city = {}\n",
    "         for item in result :\n",
    "                  name = item[1]\n",
    "                  if name not in dict_city.keys():\n",
    "                           dict_city[name] = float(item[0])\n",
    "                  else :\n",
    "                           dict_city[name] += float(item[0])\n",
    "\n",
    "         df = pd.DataFrame({'Proportion':list(dict_city.values()),'Building_prelevement':list(dict_city.keys())})\n",
    "         \n",
    "         fig = px.bar(df,x='Building_prelevement',y='Proportion',title=\"Proportion d'individus en general dans chaque batiment.\",color='Proportion',color_continuous_scale='rdylbu')\n",
    "\n",
    "         return fig"
   ]
  },
  {
   "cell_type": "code",
   "execution_count": null,
   "id": "083510a4",
   "metadata": {
    "scrolled": false
   },
   "outputs": [],
   "source": [
    "premier_plot(path)"
   ]
  },
  {
   "cell_type": "markdown",
   "id": "d7d8f698",
   "metadata": {},
   "source": [
    "### Second barplot"
   ]
  },
  {
   "cell_type": "code",
   "execution_count": null,
   "id": "e778ac4e",
   "metadata": {},
   "outputs": [],
   "source": [
    "def update_plot(district):\n",
    "    dict_fin={}\n",
    "    \n",
    "    \n",
    "    if len(district) == 2 :\n",
    "        selection_building = district\n",
    "\n",
    "    else :\n",
    "        selection_building = (district[0],district[0])\n",
    "            \n",
    "    con = sqlite3.connect(path)\n",
    "    cur = con.cursor()\n",
    "    command = f\"\"\"\n",
    "        SELECT c.abs_count, s.building, s.surface\n",
    "        FROM Samples s NATURAL JOIN Counts c\n",
    "        WHERE s.building = '{selection_building[0]}' OR s.building = '{selection_building[1]}'\n",
    "    \"\"\"\n",
    "    res = cur.execute(command)\n",
    "    result = res.fetchall()\n",
    "    con.commit()\n",
    "    con.close()\n",
    "    \n",
    "    dict_elem = {}\n",
    "    \n",
    "    for item in result :\n",
    "        name = item[1]+'_'+item[2]\n",
    "        if name not in dict_elem.keys() :\n",
    "            dict_elem[name] = float(item[0])\n",
    "        else :\n",
    "            dict_elem[name] += float(item[0])\n",
    "    \n",
    "    dict_fin = dict(sorted(dict_elem.items(), key=lambda x:x[1]))\n",
    "    \n",
    "    df_barplot = pd.DataFrame({'lieu':[item for item in dict_fin.keys()] ,\n",
    "                          'proportion':list(dict_fin.values())})\n",
    "    \n",
    "    fig = px.bar(df_barplot, x='lieu', y='proportion',color='proportion', color_continuous_scale='PuRd',\n",
    "             title=\"Proportion individus retrouver dans chaque environnement.\",labels={\"lieu\":\"Environnement de prélévement\",\"proportion\":\"Proportion\"})\n",
    "    fig.show()"
   ]
  },
  {
   "cell_type": "code",
   "execution_count": null,
   "id": "9280158f",
   "metadata": {},
   "outputs": [],
   "source": [
    "widgets.interactive(update_plot, district = district)"
   ]
  },
  {
   "cell_type": "markdown",
   "id": "5e24a541",
   "metadata": {},
   "source": [
    "### Treemap/Sunburst"
   ]
  },
  {
   "cell_type": "code",
   "execution_count": null,
   "id": "415cb40d",
   "metadata": {},
   "outputs": [],
   "source": [
    "def treemap_pltly(district,place,plot):    \n",
    "    command1 = f\"\"\"\n",
    "            SELECT t.phylum, t.class, t._order, SUM(c.abs_count) as count\n",
    "            FROM Taxa t NATURAL JOIN Counts as c NATURAL JOIN Samples s\n",
    "            WHERE s.building = '{district[0]}' AND s.surface = '{place}'\n",
    "            group by t.phylum, t.class, t._order\n",
    "        \"\"\"\n",
    "\n",
    "    requete = pd.read_sql(command1,sqlite3.connect(path))\n",
    "    \n",
    "    if plot == 'sunburn' :\n",
    "        fig = px.sunburst(requete.fillna(''),path=['class','_order'],values='count',color='class')\n",
    "    else :\n",
    "        fig = px.treemap(requete.fillna(''),path=['class','_order'],values='count',color='class')\n",
    "\n",
    "    fig.show()\n"
   ]
  },
  {
   "cell_type": "code",
   "execution_count": null,
   "id": "ab302518",
   "metadata": {},
   "outputs": [],
   "source": [
    "widgets.interactive(treemap_pltly, district = district_treemap,place = place_treemap, plot = plot_tr_sb)"
   ]
  },
  {
   "cell_type": "markdown",
   "id": "34e40033",
   "metadata": {},
   "source": [
    "### ACP"
   ]
  },
  {
   "cell_type": "code",
   "execution_count": null,
   "id": "bfa9647e",
   "metadata": {},
   "outputs": [],
   "source": [
    "def acp(color):\n",
    "    from sklearn.preprocessing import StandardScaler\n",
    "    from sklearn.decomposition import PCA\n",
    "\n",
    "    con =  sqlite3.connect(path)\n",
    "\n",
    "    res = pd.read_sql(\"\"\"\n",
    "        SELECT c.rel_count, c.OTU_ID, c.SAMPLE_ID, s.gender, s.building, s.surface, s.floor\n",
    "        FROM Counts c NATURAL JOIN Samples s\n",
    "    \"\"\",con)\n",
    "\n",
    "    df = res.pivot(index=['SAMPLE_ID','gender','building','surface', \"floor\"],values='rel_count',columns='OTU_ID')\n",
    "\n",
    "    SS = StandardScaler()\n",
    "    SS.fit(df)\n",
    "    Xnorm = SS.transform(df)\n",
    "\n",
    "    \n",
    "    pca = PCA(n_components=2)\n",
    "    pca.fit(df)\n",
    "\n",
    "    X_pca = pca.transform(df)\n",
    "    \n",
    "    title =\"ACP sur le jeu de données avec coloration par genre.\"\n",
    "    f=px.scatter(X_pca[:,0],X_pca[:,1],color= df.index.get_level_values(color),title=title)\n",
    "    f.update_layout( title_x=0.5)\n",
    "\n",
    "    f.show()\n"
   ]
  },
  {
   "cell_type": "code",
   "execution_count": null,
   "id": "7e24c7df",
   "metadata": {
    "scrolled": false
   },
   "outputs": [],
   "source": [
    "widgets.interactive(acp, color = color_pca)"
   ]
  },
  {
   "cell_type": "markdown",
   "id": "9d602238",
   "metadata": {},
   "source": [
    "### Heatmap"
   ]
  },
  {
   "cell_type": "code",
   "execution_count": null,
   "id": "ace0c545",
   "metadata": {},
   "outputs": [],
   "source": [
    "def heatmap(path) :\n",
    "    from scipy.spatial.distance import euclidean\n",
    "    con =  sqlite3.connect(path)\n",
    "\n",
    "    res3 =pd.read_sql(\"\"\"\n",
    "    select *\n",
    "    from Samples \n",
    "    \"\"\", con)\n",
    "\n",
    "\n",
    "    count = pd.read_sql(\"\"\"\n",
    "    select rel_count, SAMPLE_ID, OTU_ID from Counts\n",
    "    \"\"\", con)\n",
    "    count = count.pivot(columns=\"SAMPLE_ID\", index=\"OTU_ID\", values = \"rel_count\")\n",
    "\n",
    "    q=res3[\"SAMPLE_ID\"].to_frame()\n",
    "    qq=q.merge(q, how='cross')\n",
    "    qq[\"distance\"] = None\n",
    "\n",
    "    for i, v in qq.iterrows():\n",
    "        s1, s2 = v[\"SAMPLE_ID_x\"], v[\"SAMPLE_ID_y\"]\n",
    "        qq.loc[i, \"distance\"] = euclidean(count[s1],count[s2])\n",
    "\n",
    "\n",
    "    heatmap=qq.pivot(columns=[\"SAMPLE_ID_y\"],index=\"SAMPLE_ID_x\",values='distance')\n",
    "\n",
    "    return px.imshow(heatmap,color_continuous_scale='inferno',title=\"Distance euclidienne de l'abondance relative entre échantillons.\")"
   ]
  },
  {
   "cell_type": "code",
   "execution_count": null,
   "id": "b7216400",
   "metadata": {},
   "outputs": [],
   "source": [
    "heatmap(path)"
   ]
  },
  {
   "cell_type": "markdown",
   "id": "e8927f4b",
   "metadata": {},
   "source": [
    "### Custom barplot"
   ]
  },
  {
   "cell_type": "markdown",
   "id": "029b40e4",
   "metadata": {},
   "source": [
    "#### data loading"
   ]
  },
  {
   "cell_type": "code",
   "execution_count": null,
   "id": "30ce5b8f",
   "metadata": {},
   "outputs": [],
   "source": [
    "# data loading and create df\n",
    "\n",
    "from sqlite3 import connect\n",
    "from pandas import read_sql\n",
    "\n",
    "\n",
    "def data_loader(db_path):\n",
    "    with connect(db_path) as conn: \n",
    "        taxa = read_sql(\"select * from Taxa\", conn)\n",
    "        samples = read_sql(\"select * from Samples\", conn)\n",
    "        melted = read_sql(\"select * from Counts\", conn)\n",
    "\n",
    "    melted = melted.set_index([\"OTU_ID\", \"SAMPLE_ID\"])\n",
    "    samples = samples.set_index(\"SAMPLE_ID\")\n",
    "    taxa = taxa.fillna(\"\").set_index(\"OTU_ID\")\n",
    "\n",
    "    return melted, samples, taxa\n",
    "\n",
    "\n",
    "melted, samples, taxa = data_loader(path)"
   ]
  },
  {
   "cell_type": "code",
   "execution_count": null,
   "id": "17a64ec8",
   "metadata": {},
   "outputs": [],
   "source": [
    "melted.head()"
   ]
  },
  {
   "cell_type": "code",
   "execution_count": null,
   "id": "580c704b",
   "metadata": {},
   "outputs": [],
   "source": [
    "taxa.head()"
   ]
  },
  {
   "cell_type": "code",
   "execution_count": null,
   "id": "0eda8bd3",
   "metadata": {},
   "outputs": [],
   "source": [
    "samples.head()"
   ]
  },
  {
   "cell_type": "code",
   "execution_count": null,
   "id": "34f7afe5",
   "metadata": {},
   "outputs": [],
   "source": [
    "#fun batplot custom\n",
    "\n",
    "def barplot_custom(phylo_choice, sample_choice):\n",
    "    corr_depth = melted \\\n",
    "        .join(samples, on=\"SAMPLE_ID\") \\\n",
    "        .get([\"abs_count\"]+[sample_choice]) \\\n",
    "        .groupby(sample_choice) \\\n",
    "        .sum() \\\n",
    "        .rename(columns={\"abs_count\": \"corr_depth\"})\n",
    "\n",
    "    selected_count = melted \\\n",
    "        .join(samples.get(sample_choice), on=\"SAMPLE_ID\") \\\n",
    "        .drop( [\"rel_count\"], axis=\"columns\") \\\n",
    "        .join(taxa.fillna(\"\").get(phylo_choice), on=\"OTU_ID\") \\\n",
    "        .groupby([phylo_choice] + [sample_choice]) \\\n",
    "        .sum() \\\n",
    "        .join(corr_depth, on=sample_choice) \\\n",
    "        .query(\"abs_count != 0\") \\\n",
    "        .reset_index()\n",
    "\n",
    "    selected_count[\"rel_count\"] = selected_count[\"abs_count\"] / selected_count[\"corr_depth\"]\n",
    "\n",
    "    fig = px.bar(selected_count, x=sample_choice, y=\"rel_count\", barmode=\"stack\", color=phylo_choice) \n",
    "    \n",
    "    fig.show()"
   ]
  },
  {
   "cell_type": "markdown",
   "id": "1f8923c8",
   "metadata": {},
   "source": [
    "#### custom bar plot with ipywidget"
   ]
  },
  {
   "cell_type": "code",
   "execution_count": null,
   "id": "9232a374",
   "metadata": {},
   "outputs": [],
   "source": [
    "sample_choice_widget = widgets.RadioButtons(\n",
    "    options=('surface', 'gender', 'floor', 'building'), \n",
    "    description=\"choix du type d'echantillon\"\n",
    ")\n",
    "\n",
    "phylo_choice_widget = widgets.RadioButtons(\n",
    "    options=('phylum', 'class', '_order', 'family', 'genus', 'specie'),\n",
    "    description=\"choix du rang taxonomique\"\n",
    ")\n",
    "\n",
    "widgets.interactive(barplot_custom, \n",
    "    phylo_choice = phylo_choice_widget, \n",
    "    sample_choice = sample_choice_widget\n",
    ")"
   ]
  },
  {
   "cell_type": "markdown",
   "id": "c542339f",
   "metadata": {},
   "source": [
    "### Distance Matrix followed by Multidimensional scaling\n",
    "\n",
    "Instead dnifrac distance matrix, we use euclidean distance matrix (cause Unifrac need Tree with **phylogenetic distance**)"
   ]
  },
  {
   "cell_type": "code",
   "execution_count": null,
   "id": "8dafb9c6",
   "metadata": {},
   "outputs": [],
   "source": [
    "from sklearn.manifold import MDS\n",
    "\n",
    "counts = melted \\\n",
    "    .get(\"rel_count\") \\\n",
    "    .to_frame() \\\n",
    "    .reset_index() \\\n",
    "    .pivot(columns=\"OTU_ID\", index=\"SAMPLE_ID\", values=\"rel_count\")\n",
    "\n",
    "counts.head()"
   ]
  },
  {
   "cell_type": "code",
   "execution_count": null,
   "id": "a06a97c8",
   "metadata": {},
   "outputs": [],
   "source": [
    "mds = MDS(dissimilarity=\"euclidean\", n_components=2, normalized_stress='auto')\n",
    "pos = mds.fit(counts)\n",
    "\n",
    "pos_df = pd.DataFrame(pos.embedding_, index=counts.index, columns=[\"x\", \"y\"])\n",
    "pos_df = pos_df \\\n",
    "    .merge(samples, on=\"SAMPLE_ID\")\n",
    "\n",
    "pos_df[\"isFloor\"] = pos_df.apply(lambda x: \"yes\" if \"floor\" in x[\"surface\"] else \"no\", axis=\"columns\")\n",
    "\n",
    "pos_df.head()"
   ]
  },
  {
   "cell_type": "code",
   "execution_count": null,
   "id": "381e834e",
   "metadata": {},
   "outputs": [],
   "source": [
    "def plot_mds(color_by):\n",
    "    fig = px.scatter(pos_df, x=\"x\",y=\"y\", \n",
    "        color=color_by, width=800,height=700, \n",
    "        title=\"Multi Dimensional Scaling with Euclidean Distance Matrix between Samples\"\n",
    "    )\n",
    "    fig.show()\n",
    "\n",
    "\n",
    "choice_color = widgets.RadioButtons(\n",
    "    options=(\"gender\", \"floor\", \"building\", \"surface\", \"isFloor\"),\n",
    "    description=\"color by\"\n",
    ")\n",
    "\n",
    "widgets.interactive(plot_mds, \n",
    "    color_by = choice_color\n",
    ")"
   ]
  }
 ],
 "metadata": {
  "kernelspec": {
   "display_name": "vdb_poster_ravy_thomas",
   "language": "python",
   "name": "python3"
  },
  "language_info": {
   "codemirror_mode": {
    "name": "ipython",
    "version": 3
   },
   "file_extension": ".py",
   "mimetype": "text/x-python",
   "name": "python",
   "nbconvert_exporter": "python",
   "pygments_lexer": "ipython3",
   "version": "3.8.15 | packaged by conda-forge | (default, Jan 26 2023, 10:51:07) \n[Clang 14.0.6 ]"
  },
  "vscode": {
   "interpreter": {
    "hash": "1a0c4a1e51c84de00bcccd84a8c9ce77e11b7485743cb4345623560b098adc1f"
   }
  }
 },
 "nbformat": 4,
 "nbformat_minor": 5
}
